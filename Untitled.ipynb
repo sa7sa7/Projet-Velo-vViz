{
 "cells": [
  {
   "cell_type": "code",
   "execution_count": null,
   "metadata": {},
   "outputs": [],
   "source": [
    "import urllib3\n",
    "from time import sleep\n",
    "http = urllib3.PoolManager()\n",
    "i = 106;\n",
    "while(1):\n",
    "    r = http.request('GET', 'https://download.data.grandlyon.com/ws/rdata/jcd_jcdecaux.jcdvelov/all.json')\n",
    "    i = i +1 \n",
    "    name = \"file\"+str(i)\n",
    "    f= open(name+\".json\",\"wb\")\n",
    "    f.write(r.data)\n",
    "    f.close() \n",
    "    sleep(300)"
   ]
  }
 ],
 "metadata": {
  "kernelspec": {
   "display_name": "Python 3",
   "language": "python",
   "name": "python3"
  },
  "language_info": {
   "codemirror_mode": {
    "name": "ipython",
    "version": 3
   },
   "file_extension": ".py",
   "mimetype": "text/x-python",
   "name": "python",
   "nbconvert_exporter": "python",
   "pygments_lexer": "ipython3",
   "version": "3.6.2"
  }
 },
 "nbformat": 4,
 "nbformat_minor": 2
}
